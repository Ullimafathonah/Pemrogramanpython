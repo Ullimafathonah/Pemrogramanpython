{
  "nbformat": 4,
  "nbformat_minor": 0,
  "metadata": {
    "colab": {
      "name": "Untitled0.ipynb",
      "provenance": [],
      "authorship_tag": "ABX9TyNeMgfXYlISnF3SzoFTn+A7",
      "include_colab_link": true
    },
    "kernelspec": {
      "name": "python3",
      "display_name": "Python 3"
    }
  },
  "cells": [
    {
      "cell_type": "markdown",
      "metadata": {
        "id": "view-in-github",
        "colab_type": "text"
      },
      "source": [
        "<a href=\"https://colab.research.google.com/github/Ullimafathonah/Pemrogramanpython/blob/main/Tugas11%20Ullima%20Fathonah%20Remelko%201101208445.ipynb\" target=\"_parent\"><img src=\"https://colab.research.google.com/assets/colab-badge.svg\" alt=\"Open In Colab\"/></a>"
      ]
    },
    {
      "cell_type": "code",
      "metadata": {
        "id": "MT0Zh-HgF8u1"
      },
      "source": [
        ""
      ],
      "execution_count": null,
      "outputs": []
    },
    {
      "cell_type": "code",
      "metadata": {
        "colab": {
          "base_uri": "https://localhost:8080/"
        },
        "id": "FoS3NeEsGEQP",
        "outputId": "7b6a0ebd-f767-4aaf-c8b9-f741f6c90569"
      },
      "source": [
        "from google.colab import drive\n",
        "drive.mount('/content/drive')"
      ],
      "execution_count": 1,
      "outputs": [
        {
          "output_type": "stream",
          "text": [
            "Mounted at /content/drive\n"
          ],
          "name": "stdout"
        }
      ]
    },
    {
      "cell_type": "code",
      "metadata": {
        "colab": {
          "base_uri": "https://localhost:8080/"
        },
        "id": "SFg_2vH9GStf",
        "outputId": "7541b2ee-3e78-4a25-aa48-03c7b74302e3"
      },
      "source": [
        "cd /content/drive/MyDrive/Colab Notebooks"
      ],
      "execution_count": 53,
      "outputs": [
        {
          "output_type": "stream",
          "text": [
            "/content/drive/MyDrive/Colab Notebooks\n"
          ],
          "name": "stdout"
        }
      ]
    },
    {
      "cell_type": "code",
      "metadata": {
        "colab": {
          "base_uri": "https://localhost:8080/"
        },
        "id": "x7S_lQZAGiwM",
        "outputId": "fdc07c32-0ff2-46b4-8ced-1a1ae19faf02"
      },
      "source": [
        "ls"
      ],
      "execution_count": 54,
      "outputs": [
        {
          "output_type": "stream",
          "text": [
            " \u001b[0m\u001b[01;34m3scene\u001b[0m/                          \u001b[01;34mdataset\u001b[0m/        'Tugaspython ullima.ipynb'\n",
            " best_weight_scene_mobileNet.h5   \u001b[01;34mnnmodel_scene\u001b[0m/   Untitled0.ipynb\n"
          ],
          "name": "stdout"
        }
      ]
    },
    {
      "cell_type": "code",
      "metadata": {
        "id": "Fv9JDHtFGpsT"
      },
      "source": [
        "# import the necessary packages\n",
        "from keras.models import Sequential\n",
        "from keras.layers.core import Activation\n",
        "from keras.layers.core import Flatten\n",
        "from keras.layers.core import Dense\n",
        "from keras.optimizers import Adam\n",
        "from sklearn.preprocessing import LabelBinarizer\n",
        "from sklearn.model_selection import train_test_split\n",
        "from sklearn.metrics import classification_report\n",
        "from PIL import Image\n",
        "from imutils import paths\n",
        "import numpy as np\n",
        "import os"
      ],
      "execution_count": 55,
      "outputs": []
    },
    {
      "cell_type": "code",
      "metadata": {
        "colab": {
          "base_uri": "https://localhost:8080/"
        },
        "id": "pjLTREiMGkq6",
        "outputId": "110b79d3-b172-4fbf-ab0b-1abc114fdc27"
      },
      "source": [
        "# grab all image paths in the input dataset directory, then initialize\n",
        "# our list of images and corresponding class labels\n",
        "print(\"[INFO] loading images...\")\n",
        "imagePaths = paths.list_images(\"dataset\")\n",
        "data = []\n",
        "labels = []"
      ],
      "execution_count": 56,
      "outputs": [
        {
          "output_type": "stream",
          "text": [
            "[INFO] loading images...\n"
          ],
          "name": "stdout"
        }
      ]
    },
    {
      "cell_type": "code",
      "metadata": {
        "id": "DBseeZEzGwY5"
      },
      "source": [
        "# loop over our input images\n",
        "for imagePath in imagePaths:\n",
        "\t# load the input image from disk, resize it to 64x64 pixels, scale\n",
        "\t# the pixel intensities to the range [0, 1], and then update our\n",
        "\t# images list\n",
        "\timage = Image.open(imagePath)\n",
        "  #preprocessing\n",
        "\timage = np.array(image.resize((32, 32))) / 255.0 #normalisasi\n",
        "\tdata.append(image)\n",
        "\n",
        "\t# extract the class label from the file path and update the\n",
        "\t# labels list\n",
        "\tlabel = imagePath.split(os.path.sep)[-2]\n",
        "\tlabels.append(label)"
      ],
      "execution_count": 57,
      "outputs": []
    },
    {
      "cell_type": "code",
      "metadata": {
        "colab": {
          "base_uri": "https://localhost:8080/"
        },
        "id": "NJ6Uefh6G1WY",
        "outputId": "85eef945-5eb7-43a3-abca-e318d7af3f85"
      },
      "source": [
        "print(labels)"
      ],
      "execution_count": 58,
      "outputs": [
        {
          "output_type": "stream",
          "text": [
            "['GMB_03', 'GMB_03', 'GMB_03', 'GMB_03', 'GMB_03', 'GMB_03', 'GMB_03', 'GMB_03', 'GMB_03', 'GMB_03', 'GMB_03', 'GMB_03', 'GMB_03', 'GMB_03', 'GMB_03', 'GMB_03', 'GMB_03', 'GMB_03', 'GMB_03', 'GMB_03', 'GMB_03', 'GMB_03', 'GMB_03', 'GMB_03', 'GMB_03', 'GMB_03', 'GMB_03', 'GMB_03', 'GMB_03', 'GMB_03', 'GMB_03', 'GMB_03', 'GMB_03', 'GMB_03', 'GMB_03', 'GMB_03', 'GMB_03', 'GMB_03', 'GMB_03', 'GMB_03', 'GMB_03', 'GMB_03', 'GMB_03', 'GMB_03', 'GMB_03', 'GMB_03', 'GMB_03', 'GMB_03', 'GMB_03', 'GMB_03', 'GMB_03', 'GMB_03', 'GMB_03', 'GMB_03', 'GMB_03', 'GMB_03', 'GMB_03', 'GMB_03', 'GMB_03', 'GMB_03', 'GMB_03', 'GMB_03', 'GMB_03', 'GMB_03', 'GMB_03', 'GMB_03', 'GMB_03', 'GMB_03', 'GMB_03', 'GMB_03', 'GMB_03', 'GMB_03', 'GMB_03', 'GMB_03', 'GMB_03', 'GMB_03', 'GMB_03', 'GMB_03', 'GMB_03', 'GMB_03', 'GMB_03', 'GMB_03', 'GMB_03', 'GMB_03', 'GMB_03', 'GMB_03', 'GMB_03', 'GMB_03', 'GMB_03', 'GMB_03', 'GMB_03', 'GMB_03', 'GMB_03', 'GMB_03', 'GMB_03', 'GMB_03', 'GMB_03', 'GMB_03', 'GMB_03', 'GMB_03', 'GMB_03', 'GMB_03', 'GMB_03', 'GMB_03', 'GMB_03', 'GMB_03', 'GMB_03', 'GMB_03', 'GMB_03', 'GMB_03', 'GMB_03', 'GMB_03', 'GMB_05', 'GMB_05', 'GMB_05', 'GMB_05', 'GMB_05', 'GMB_05', 'GMB_05', 'GMB_05', 'GMB_05', 'GMB_05', 'GMB_05', 'GMB_05', 'GMB_05', 'GMB_05', 'GMB_05', 'GMB_05', 'GMB_05', 'GMB_05', 'GMB_05', 'GMB_05', 'GMB_05', 'GMB_05', 'GMB_05', 'GMB_05', 'GMB_05', 'GMB_05', 'GMB_05', 'GMB_05', 'GMB_05', 'GMB_05', 'GMB_05', 'GMB_05', 'GMB_05', 'GMB_05', 'GMB_05', 'GMB_05', 'GMB_05', 'GMB_05', 'GMB_05', 'GMB_05', 'GMB_05', 'GMB_05', 'GMB_05', 'GMB_05', 'GMB_05', 'GMB_05', 'GMB_05', 'GMB_05', 'GMB_05', 'GMB_05', 'GMB_05', 'GMB_05', 'GMB_05', 'GMB_05', 'GMB_05', 'GMB_05', 'GMB_05', 'GMB_05', 'GMB_05', 'GMB_05', 'GMB_05', 'GMB_05', 'GMB_05', 'GMB_05', 'GMB_05', 'GMB_05', 'GMB_05', 'GMB_05', 'GMB_05', 'GMB_05', 'GMB_05', 'GMB_05', 'GMB_05', 'GMB_05', 'GMB_05', 'GMB_05', 'GMB_05', 'GMB_05', 'GMB_05', 'GMB_05', 'GMB_05', 'GMB_05', 'GMB_05', 'GMB_05', 'GMB_05', 'GMB_05', 'GMB_05', 'GMB_05', 'GMB_05', 'GMB_05', 'GMB_05', 'GMB_05', 'GMB_05', 'GMB_05', 'GMB_05', 'GMB_05', 'GMB_05', 'GMB_05', 'GMB_05', 'GMB_05', 'GMB_05', 'GMB_05', 'GMB_05', 'GMB_05', 'GMB_05', 'GMB_05', 'GMB_05', 'GMB_05', 'GMB_05', 'GMB_05', 'GMB_05', 'GMB_05', 'GMB_05', 'GMB_05', 'GMB_05', 'GMB_05', 'GMB_05', 'GMB_05', 'GMB_05', 'GMB_05', 'GMB_05', 'GMB_04', 'GMB_04', 'GMB_04', 'GMB_04', 'GMB_04', 'GMB_04', 'GMB_04', 'GMB_04', 'GMB_04', 'GMB_04', 'GMB_04', 'GMB_04', 'GMB_04', 'GMB_04', 'GMB_04', 'GMB_04', 'GMB_04', 'GMB_04', 'GMB_04', 'GMB_04', 'GMB_04', 'GMB_04', 'GMB_04', 'GMB_04', 'GMB_04', 'GMB_04', 'GMB_04', 'GMB_04', 'GMB_04', 'GMB_04', 'GMB_04', 'GMB_04', 'GMB_04', 'GMB_04', 'GMB_04', 'GMB_04', 'GMB_04', 'GMB_04', 'GMB_04', 'GMB_04', 'GMB_04', 'GMB_04', 'GMB_04', 'GMB_04', 'GMB_04', 'GMB_04', 'GMB_04', 'GMB_04', 'GMB_04', 'GMB_04', 'GMB_04', 'GMB_04', 'GMB_04', 'GMB_04', 'GMB_04', 'GMB_04', 'GMB_04', 'GMB_04', 'GMB_04', 'GMB_04', 'GMB_04', 'GMB_04', 'GMB_04', 'GMB_04', 'GMB_04', 'GMB_04', 'GMB_04', 'GMB_04', 'GMB_04', 'GMB_04', 'GMB_04', 'GMB_04', 'GMB_04', 'GMB_04', 'GMB_04', 'GMB_04', 'GMB_04', 'GMB_04', 'GMB_04', 'GMB_04', 'GMB_04', 'GMB_04', 'GMB_04', 'GMB_04', 'GMB_04', 'GMB_04', 'GMB_04', 'GMB_04', 'GMB_04', 'GMB_04', 'GMB_04', 'GMB_04', 'GMB_04', 'GMB_04', 'GMB_04', 'GMB_04', 'GMB_04', 'GMB_04', 'GMB_04', 'GMB_04', 'GMB_04', 'GMB_04', 'GMB_04', 'GMB_04', 'GMB_04', 'GMB_04', 'GMB_04', 'GMB_04', 'GMB_04', 'GMB_04', 'GMB_04', 'GMB_04', 'GMB_04', 'GMB_04', 'GMB_04', 'GMB_04', 'GMB_04', 'GMB_04', 'GMB_04', 'GMB_04', 'GMB_04', 'GMB_04', 'GMB_02', 'GMB_02', 'GMB_02', 'GMB_02', 'GMB_02', 'GMB_02', 'GMB_02', 'GMB_02', 'GMB_02', 'GMB_02', 'GMB_02', 'GMB_02', 'GMB_02', 'GMB_02', 'GMB_02', 'GMB_02', 'GMB_02', 'GMB_02', 'GMB_02', 'GMB_02', 'GMB_02', 'GMB_02', 'GMB_02', 'GMB_02', 'GMB_02', 'GMB_02', 'GMB_02', 'GMB_02', 'GMB_02', 'GMB_02', 'GMB_02', 'GMB_02', 'GMB_02', 'GMB_02', 'GMB_02', 'GMB_02', 'GMB_02', 'GMB_02', 'GMB_02', 'GMB_02', 'GMB_02', 'GMB_02', 'GMB_02', 'GMB_02', 'GMB_02', 'GMB_02', 'GMB_02', 'GMB_02', 'GMB_02', 'GMB_02', 'GMB_02', 'GMB_02', 'GMB_02', 'GMB_02', 'GMB_02', 'GMB_02', 'GMB_02', 'GMB_02', 'GMB_02', 'GMB_02', 'GMB_02', 'GMB_02', 'GMB_02', 'GMB_02', 'GMB_02', 'GMB_02', 'GMB_02', 'GMB_02', 'GMB_02', 'GMB_02', 'GMB_02', 'GMB_02', 'GMB_02', 'GMB_02', 'GMB_02', 'GMB_02', 'GMB_02', 'GMB_02', 'GMB_02', 'GMB_02', 'GMB_02', 'GMB_02', 'GMB_02', 'GMB_02', 'GMB_02', 'GMB_02', 'GMB_02', 'GMB_02', 'GMB_02', 'GMB_02', 'GMB_02', 'GMB_02', 'GMB_02', 'GMB_02', 'GMB_02', 'GMB_02', 'GMB_02', 'GMB_02', 'GMB_02', 'GMB_02', 'GMB_02', 'GMB_02', 'GMB_02', 'GMB_02', 'GMB_02', 'GMB_02', 'GMB_02', 'GMB_02', 'GMB_02', 'GMB_02', 'GMB_02', 'GMB_02', 'GMB_02', 'GMB_01', 'GMB_01', 'GMB_01', 'GMB_01', 'GMB_01', 'GMB_01', 'GMB_01', 'GMB_01', 'GMB_01', 'GMB_01', 'GMB_01', 'GMB_01', 'GMB_01', 'GMB_01', 'GMB_01', 'GMB_01', 'GMB_01', 'GMB_01', 'GMB_01', 'GMB_01', 'GMB_01', 'GMB_01', 'GMB_01', 'GMB_01', 'GMB_01', 'GMB_01', 'GMB_01', 'GMB_01', 'GMB_01', 'GMB_01', 'GMB_01', 'GMB_01', 'GMB_01', 'GMB_01', 'GMB_01', 'GMB_01', 'GMB_01', 'GMB_01', 'GMB_01', 'GMB_01', 'GMB_01', 'GMB_01', 'GMB_01', 'GMB_01', 'GMB_01', 'GMB_01', 'GMB_01', 'GMB_01', 'GMB_01', 'GMB_01', 'GMB_01', 'GMB_01', 'GMB_01', 'GMB_01', 'GMB_01', 'GMB_01', 'GMB_01', 'GMB_01', 'GMB_01', 'GMB_01', 'GMB_01', 'GMB_01', 'GMB_01', 'GMB_01', 'GMB_01', 'GMB_01', 'GMB_01', 'GMB_01', 'GMB_01', 'GMB_01', 'GMB_01', 'GMB_01', 'GMB_01', 'GMB_01', 'GMB_01', 'GMB_01', 'GMB_01', 'GMB_01', 'GMB_01', 'GMB_01', 'GMB_01', 'GMB_01', 'GMB_01', 'GMB_01', 'GMB_01', 'GMB_01', 'GMB_01', 'GMB_01', 'GMB_01', 'GMB_01', 'GMB_01', 'GMB_01', 'GMB_01', 'GMB_01', 'GMB_01', 'GMB_01', 'GMB_01', 'GMB_01', 'GMB_01', 'GMB_01', 'GMB_01', 'GMB_01', 'GMB_01', 'GMB_01', 'GMB_01', 'GMB_01', 'GMB_01', 'GMB_01', 'GMB_01', 'GMB_01', 'GMB_01', 'GMB_01', 'GMB_01', 'GMB_01', 'GMB_01', 'GMB_01']\n"
          ],
          "name": "stdout"
        }
      ]
    },
    {
      "cell_type": "code",
      "metadata": {
        "id": "jZkDtp8iNmaO"
      },
      "source": [
        "# encode the labels, converting them from strings to integers\n",
        "lb = LabelBinarizer()\n",
        "labels = lb.fit_transform(labels)"
      ],
      "execution_count": 59,
      "outputs": []
    },
    {
      "cell_type": "code",
      "metadata": {
        "colab": {
          "base_uri": "https://localhost:8080/"
        },
        "id": "Q-fKk-WKNqlE",
        "outputId": "8c73335f-e3f4-48ee-f4bf-39ce0e137e57"
      },
      "source": [
        "print(labels)"
      ],
      "execution_count": 60,
      "outputs": [
        {
          "output_type": "stream",
          "text": [
            "[[0 0 1 0 0]\n",
            " [0 0 1 0 0]\n",
            " [0 0 1 0 0]\n",
            " ...\n",
            " [1 0 0 0 0]\n",
            " [1 0 0 0 0]\n",
            " [1 0 0 0 0]]\n"
          ],
          "name": "stdout"
        }
      ]
    },
    {
      "cell_type": "code",
      "metadata": {
        "colab": {
          "base_uri": "https://localhost:8080/"
        },
        "id": "nyUOK-b0NyWq",
        "outputId": "fb08b77a-bf85-4da7-e377-159ccb5ee411"
      },
      "source": [
        "# perform a training and testing split, using 75% of the data for\n",
        "# training and 25% for evaluation\n",
        "(trainX, testX, trainY, testY) = train_test_split(np.array(data),\tnp.array(labels), test_size=0.25, shuffle=True)\n",
        "print(trainX.shape)\n",
        "print(testX.shape)"
      ],
      "execution_count": 61,
      "outputs": [
        {
          "output_type": "stream",
          "text": [
            "(438, 32, 32, 3)\n",
            "(146, 32, 32, 3)\n"
          ],
          "name": "stdout"
        }
      ]
    },
    {
      "cell_type": "code",
      "metadata": {
        "colab": {
          "base_uri": "https://localhost:8080/"
        },
        "id": "ct2f2ShVN0Az",
        "outputId": "a7bab8e5-4e8d-48d2-b807-28b4dc1e5ec4"
      },
      "source": [
        "from keras.layers import Convolution2D, MaxPooling2D\n",
        "from keras.models import Sequential\n",
        "from keras.layers.core import Flatten, Dense\n",
        "\n",
        "model1 = Sequential()\n",
        "model1.add(Convolution2D(8, (3,3), activation='relu', input_shape=(32,32,3)))\n",
        "model1.add(MaxPooling2D(2,2))\n",
        "model1.add(Convolution2D(16, (3,3), activation='relu'))\n",
        "model1.add(MaxPooling2D(2,2))\n",
        "#fully connected layer\n",
        "model1.add(Flatten())\n",
        "model1.add(Dense(100, activation='relu'))\n",
        "model1.add(Dense(5, activation='softmax'))\n",
        "\n",
        "model1.summary()"
      ],
      "execution_count": 81,
      "outputs": [
        {
          "output_type": "stream",
          "text": [
            "Model: \"sequential_10\"\n",
            "_________________________________________________________________\n",
            "Layer (type)                 Output Shape              Param #   \n",
            "=================================================================\n",
            "conv2d_19 (Conv2D)           (None, 30, 30, 8)         224       \n",
            "_________________________________________________________________\n",
            "max_pooling2d_16 (MaxPooling (None, 15, 15, 8)         0         \n",
            "_________________________________________________________________\n",
            "conv2d_20 (Conv2D)           (None, 13, 13, 16)        1168      \n",
            "_________________________________________________________________\n",
            "max_pooling2d_17 (MaxPooling (None, 6, 6, 16)          0         \n",
            "_________________________________________________________________\n",
            "flatten_7 (Flatten)          (None, 576)               0         \n",
            "_________________________________________________________________\n",
            "dense_14 (Dense)             (None, 100)               57700     \n",
            "_________________________________________________________________\n",
            "dense_15 (Dense)             (None, 5)                 505       \n",
            "=================================================================\n",
            "Total params: 59,597\n",
            "Trainable params: 59,597\n",
            "Non-trainable params: 0\n",
            "_________________________________________________________________\n"
          ],
          "name": "stdout"
        }
      ]
    },
    {
      "cell_type": "code",
      "metadata": {
        "colab": {
          "base_uri": "https://localhost:8080/"
        },
        "id": "AFuX0gkNOdfw",
        "outputId": "75187961-5ed6-4644-9661-ec629398eccb"
      },
      "source": [
        "print(\"[INFO] training network...\")\n",
        "opt = Adam(lr=1e-3, decay=1e-3 / 50)\n",
        "model1.compile(loss=\"categorical_crossentropy\", optimizer=opt, metrics=[\"accuracy\"])"
      ],
      "execution_count": 82,
      "outputs": [
        {
          "output_type": "stream",
          "text": [
            "[INFO] training network...\n"
          ],
          "name": "stdout"
        }
      ]
    },
    {
      "cell_type": "code",
      "metadata": {
        "colab": {
          "base_uri": "https://localhost:8080/"
        },
        "id": "5KrXw4ZeOvoN",
        "outputId": "6f27ebb4-a543-4bd2-a8a1-5cc09b7c7588"
      },
      "source": [
        "H = model1.fit(trainX, trainY, validation_data=(testX, testY), epochs=38, batch_size=42)"
      ],
      "execution_count": 83,
      "outputs": [
        {
          "output_type": "stream",
          "text": [
            "Epoch 1/38\n",
            "11/11 [==============================] - 0s 36ms/step - loss: 1.5885 - accuracy: 0.2694 - val_loss: 1.5740 - val_accuracy: 0.2055\n",
            "Epoch 2/38\n",
            "11/11 [==============================] - 0s 23ms/step - loss: 1.5145 - accuracy: 0.3539 - val_loss: 1.5194 - val_accuracy: 0.3356\n",
            "Epoch 3/38\n",
            "11/11 [==============================] - 0s 24ms/step - loss: 1.4196 - accuracy: 0.4361 - val_loss: 1.4425 - val_accuracy: 0.3493\n",
            "Epoch 4/38\n",
            "11/11 [==============================] - 0s 23ms/step - loss: 1.3090 - accuracy: 0.4886 - val_loss: 1.3601 - val_accuracy: 0.4658\n",
            "Epoch 5/38\n",
            "11/11 [==============================] - 0s 24ms/step - loss: 1.2566 - accuracy: 0.5023 - val_loss: 1.2620 - val_accuracy: 0.4589\n",
            "Epoch 6/38\n",
            "11/11 [==============================] - 0s 25ms/step - loss: 1.1663 - accuracy: 0.5205 - val_loss: 1.2371 - val_accuracy: 0.4384\n",
            "Epoch 7/38\n",
            "11/11 [==============================] - 0s 24ms/step - loss: 1.0800 - accuracy: 0.5594 - val_loss: 1.1766 - val_accuracy: 0.5548\n",
            "Epoch 8/38\n",
            "11/11 [==============================] - 0s 24ms/step - loss: 1.0278 - accuracy: 0.6393 - val_loss: 1.1200 - val_accuracy: 0.5205\n",
            "Epoch 9/38\n",
            "11/11 [==============================] - 0s 25ms/step - loss: 0.9882 - accuracy: 0.6324 - val_loss: 1.1272 - val_accuracy: 0.5205\n",
            "Epoch 10/38\n",
            "11/11 [==============================] - 0s 24ms/step - loss: 0.9765 - accuracy: 0.5936 - val_loss: 1.0812 - val_accuracy: 0.5479\n",
            "Epoch 11/38\n",
            "11/11 [==============================] - 0s 25ms/step - loss: 0.9134 - accuracy: 0.6507 - val_loss: 1.0039 - val_accuracy: 0.6164\n",
            "Epoch 12/38\n",
            "11/11 [==============================] - 0s 23ms/step - loss: 0.8418 - accuracy: 0.6621 - val_loss: 1.0079 - val_accuracy: 0.6233\n",
            "Epoch 13/38\n",
            "11/11 [==============================] - 0s 24ms/step - loss: 0.7991 - accuracy: 0.7032 - val_loss: 0.9716 - val_accuracy: 0.5959\n",
            "Epoch 14/38\n",
            "11/11 [==============================] - 0s 23ms/step - loss: 0.7858 - accuracy: 0.7009 - val_loss: 0.9908 - val_accuracy: 0.6027\n",
            "Epoch 15/38\n",
            "11/11 [==============================] - 0s 24ms/step - loss: 0.7346 - accuracy: 0.7215 - val_loss: 1.0157 - val_accuracy: 0.5890\n",
            "Epoch 16/38\n",
            "11/11 [==============================] - 0s 23ms/step - loss: 0.7396 - accuracy: 0.7032 - val_loss: 0.8843 - val_accuracy: 0.7055\n",
            "Epoch 17/38\n",
            "11/11 [==============================] - 0s 25ms/step - loss: 0.7017 - accuracy: 0.7489 - val_loss: 0.9374 - val_accuracy: 0.5822\n",
            "Epoch 18/38\n",
            "11/11 [==============================] - 0s 24ms/step - loss: 0.6808 - accuracy: 0.7329 - val_loss: 1.0210 - val_accuracy: 0.5685\n",
            "Epoch 19/38\n",
            "11/11 [==============================] - 0s 23ms/step - loss: 0.6479 - accuracy: 0.7694 - val_loss: 0.8740 - val_accuracy: 0.6644\n",
            "Epoch 20/38\n",
            "11/11 [==============================] - 0s 24ms/step - loss: 0.6068 - accuracy: 0.7808 - val_loss: 0.8064 - val_accuracy: 0.7260\n",
            "Epoch 21/38\n",
            "11/11 [==============================] - 0s 24ms/step - loss: 0.5963 - accuracy: 0.7922 - val_loss: 0.8101 - val_accuracy: 0.7808\n",
            "Epoch 22/38\n",
            "11/11 [==============================] - 0s 23ms/step - loss: 0.5976 - accuracy: 0.7900 - val_loss: 0.7886 - val_accuracy: 0.6849\n",
            "Epoch 23/38\n",
            "11/11 [==============================] - 0s 24ms/step - loss: 0.5345 - accuracy: 0.8151 - val_loss: 0.8415 - val_accuracy: 0.6918\n",
            "Epoch 24/38\n",
            "11/11 [==============================] - 0s 24ms/step - loss: 0.5154 - accuracy: 0.8151 - val_loss: 0.7578 - val_accuracy: 0.7123\n",
            "Epoch 25/38\n",
            "11/11 [==============================] - 0s 24ms/step - loss: 0.4959 - accuracy: 0.8425 - val_loss: 0.7773 - val_accuracy: 0.6918\n",
            "Epoch 26/38\n",
            "11/11 [==============================] - 0s 24ms/step - loss: 0.4776 - accuracy: 0.8288 - val_loss: 0.8214 - val_accuracy: 0.7329\n",
            "Epoch 27/38\n",
            "11/11 [==============================] - 0s 25ms/step - loss: 0.4822 - accuracy: 0.8356 - val_loss: 0.7490 - val_accuracy: 0.7603\n",
            "Epoch 28/38\n",
            "11/11 [==============================] - 0s 24ms/step - loss: 0.4547 - accuracy: 0.8311 - val_loss: 0.7730 - val_accuracy: 0.6918\n",
            "Epoch 29/38\n",
            "11/11 [==============================] - 0s 24ms/step - loss: 0.4458 - accuracy: 0.8311 - val_loss: 0.7134 - val_accuracy: 0.7534\n",
            "Epoch 30/38\n",
            "11/11 [==============================] - 0s 23ms/step - loss: 0.4415 - accuracy: 0.8447 - val_loss: 0.7828 - val_accuracy: 0.7466\n",
            "Epoch 31/38\n",
            "11/11 [==============================] - 0s 25ms/step - loss: 0.4280 - accuracy: 0.8425 - val_loss: 0.7585 - val_accuracy: 0.6986\n",
            "Epoch 32/38\n",
            "11/11 [==============================] - 0s 23ms/step - loss: 0.4051 - accuracy: 0.8516 - val_loss: 0.7772 - val_accuracy: 0.6644\n",
            "Epoch 33/38\n",
            "11/11 [==============================] - 0s 25ms/step - loss: 0.3746 - accuracy: 0.8721 - val_loss: 0.7286 - val_accuracy: 0.7534\n",
            "Epoch 34/38\n",
            "11/11 [==============================] - 0s 24ms/step - loss: 0.3820 - accuracy: 0.8813 - val_loss: 0.7079 - val_accuracy: 0.7329\n",
            "Epoch 35/38\n",
            "11/11 [==============================] - 0s 23ms/step - loss: 0.3361 - accuracy: 0.8676 - val_loss: 0.6747 - val_accuracy: 0.7808\n",
            "Epoch 36/38\n",
            "11/11 [==============================] - 0s 24ms/step - loss: 0.3507 - accuracy: 0.8813 - val_loss: 0.7221 - val_accuracy: 0.8082\n",
            "Epoch 37/38\n",
            "11/11 [==============================] - 0s 24ms/step - loss: 0.3394 - accuracy: 0.8699 - val_loss: 0.7374 - val_accuracy: 0.7945\n",
            "Epoch 38/38\n",
            "11/11 [==============================] - 0s 25ms/step - loss: 0.3619 - accuracy: 0.8767 - val_loss: 0.6701 - val_accuracy: 0.8151\n"
          ],
          "name": "stdout"
        }
      ]
    },
    {
      "cell_type": "code",
      "metadata": {
        "colab": {
          "base_uri": "https://localhost:8080/",
          "height": 591
        },
        "id": "TXa7PKXQcjDK",
        "outputId": "4f627239-40c3-4eff-d122-ad0a2d034702"
      },
      "source": [
        "import matplotlib.pyplot as plt\n",
        "\n",
        "print(H.history.keys())\n",
        "# summarize history for accuracy\n",
        "plt.plot(H.history['accuracy'])\n",
        "plt.plot(H.history['val_accuracy'])\n",
        "plt.title('model accuracy')\n",
        "plt.ylabel('accuracy')\n",
        "plt.xlabel('epoch')\n",
        "plt.legend(['train', 'test'], loc='upper left')\n",
        "plt.show()\n",
        "# summarize history for loss\n",
        "plt.plot(H.history['loss'])\n",
        "plt.plot(H.history['val_loss'])\n",
        "plt.title('model loss')\n",
        "plt.ylabel('loss')\n",
        "plt.xlabel('epoch')\n",
        "plt.legend(['train', 'test'], loc='upper left')\n",
        "plt.show()"
      ],
      "execution_count": 84,
      "outputs": [
        {
          "output_type": "stream",
          "text": [
            "dict_keys(['loss', 'accuracy', 'val_loss', 'val_accuracy'])\n"
          ],
          "name": "stdout"
        },
        {
          "output_type": "display_data",
          "data": {
            "image/png": "[encoded data removed]",
            "text/plain": [
              "<Figure size 432x288 with 1 Axes>"
            ]
          },
          "metadata": {
            "tags": [],
            "needs_background": "light"
          }
        },
        {
          "output_type": "display_data",
          "data": {
            "image/png": "[encoded data removed]",
            "text/plain": [
              "<Figure size 432x288 with 1 Axes>"
            ]
          },
          "metadata": {
            "tags": [],
            "needs_background": "light"
          }
        }
      ]
    },
    {
      "cell_type": "code",
      "metadata": {
        "colab": {
          "base_uri": "https://localhost:8080/"
        },
        "id": "4ZLj5UF5cs-C",
        "outputId": "76619c33-484a-4b4d-8de0-77341f888932"
      },
      "source": [
        "print(\"[INFO] evaluating network...\")\n",
        "predictions = model1.predict(testX, batch_size=42)\n",
        "print(classification_report(testY.argmax(axis=1),\n",
        "\tpredictions.argmax(axis=1), target_names=lb.classes_))"
      ],
      "execution_count": 85,
      "outputs": [
        {
          "output_type": "stream",
          "text": [
            "[INFO] evaluating network...\n",
            "              precision    recall  f1-score   support\n",
            "\n",
            "      GMB_01       0.81      0.70      0.75        30\n",
            "      GMB_02       0.83      0.85      0.84        34\n",
            "      GMB_03       0.79      1.00      0.89        27\n",
            "      GMB_04       0.77      0.67      0.71        30\n",
            "      GMB_05       0.88      0.88      0.88        25\n",
            "\n",
            "    accuracy                           0.82       146\n",
            "   macro avg       0.82      0.82      0.81       146\n",
            "weighted avg       0.81      0.82      0.81       146\n",
            "\n"
          ],
          "name": "stdout"
        }
      ]
    }
  ]
}